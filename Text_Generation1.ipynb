{
  "nbformat": 4,
  "nbformat_minor": 0,
  "metadata": {
    "colab": {
      "name": "Text Generation1.ipynb",
      "provenance": [],
      "authorship_tag": "ABX9TyN9zVaCNTmcPMXcHRO7JLCn",
      "include_colab_link": true
    },
    "kernelspec": {
      "name": "python3",
      "display_name": "Python 3"
    },
    "accelerator": "GPU"
  },
  "cells": [
    {
      "cell_type": "markdown",
      "metadata": {
        "id": "view-in-github",
        "colab_type": "text"
      },
      "source": [
        "<a href=\"https://colab.research.google.com/github/Ayowolet/Deploying-a-Sentiment-Analysis-Model-/blob/master/Text_Generation1.ipynb\" target=\"_parent\"><img src=\"https://colab.research.google.com/assets/colab-badge.svg\" alt=\"Open In Colab\"/></a>"
      ]
    },
    {
      "cell_type": "code",
      "metadata": {
        "id": "aMV1wnaoiUFx"
      },
      "source": [
        "import numpy as np\n",
        "import pandas as pd\n",
        "from keras.models import Sequential\n",
        "from keras.layers import Dense\n",
        "from keras.layers import Dropout\n",
        "from keras.layers import LSTM\n",
        "from keras.layers import RNN\n",
        "from keras.utils import np_utils\n",
        "import tensorflow as tf\n",
        "import matplotlib.pyplot as pyplot\n",
        "from sklearn.model_selection import train_test_split"
      ],
      "execution_count": 2,
      "outputs": []
    },
    {
      "cell_type": "code",
      "metadata": {
        "colab": {
          "base_uri": "https://localhost:8080/"
        },
        "id": "fN82kbSZiwqW",
        "outputId": "b5ad29b0-112d-4485-dd2f-e586d186481a"
      },
      "source": [
        "from google.colab import drive\n",
        "\n",
        "drive.mount('/content/gdrive')"
      ],
      "execution_count": 4,
      "outputs": [
        {
          "output_type": "stream",
          "text": [
            "Mounted at /content/gdrive\n"
          ],
          "name": "stdout"
        }
      ]
    },
    {
      "cell_type": "code",
      "metadata": {
        "id": "SYwX7JwAhk1x"
      },
      "source": [
        "text = (open(\"/content/gdrive/My Drive/NLP/affirm.txt\").read())\n",
        "text=text.lower()"
      ],
      "execution_count": 5,
      "outputs": []
    },
    {
      "cell_type": "code",
      "metadata": {
        "id": "rbyujrdrokIX"
      },
      "source": [
        "characters = sorted(list(set(text)))\n",
        "\n",
        "n_to_char = {n:char for n, char in enumerate(characters)}\n",
        "char_to_n = {char:n for n, char in enumerate(characters)}"
      ],
      "execution_count": 15,
      "outputs": []
    },
    {
      "cell_type": "code",
      "metadata": {
        "id": "OlD7G8lIh3ka"
      },
      "source": [
        "X = []\n",
        "Y = []\n",
        "length = len(text)\n",
        "seq_length = 100\n",
        "\n",
        "for i in range(0, length-seq_length, 1):\n",
        "    sequence = text[i:i + seq_length]\n",
        "    label =text[i + seq_length]\n",
        "    X.append([char_to_idx[char] for char in sequence])\n",
        "    Y.append(char_to_idx[label])"
      ],
      "execution_count": 16,
      "outputs": []
    },
    {
      "cell_type": "code",
      "metadata": {
        "id": "Kmgm-MEVh6UR"
      },
      "source": [
        "X_modified = np.reshape(X, (len(X), seq_length, 1))\n",
        "X_modified = X_modified / float(len(characters))\n",
        "Y_modified = np_utils.to_categorical(Y)\n",
        "\n",
        "train_X, tst_X, train_Y, tst_Y = train_test_split(X_modified, Y_modified, test_size=0.6, shuffle=True)\n",
        "X_test, X_valid, Y_test, Y_valid = train_test_split(tst_X, tst_Y, train_size=0.5, shuffle=True)\n"
      ],
      "execution_count": 17,
      "outputs": []
    },
    {
      "cell_type": "code",
      "metadata": {
        "colab": {
          "base_uri": "https://localhost:8080/"
        },
        "id": "Q5tsOLR99JqD",
        "outputId": "55937f25-8617-4ce5-d143-3728cd1faaf3"
      },
      "source": [
        "# Define a simple sequential model\n",
        "def create_model():\n",
        "  model = Sequential()\n",
        "  '''\n",
        "  model.add(tf.keras.layers.Bidirectional(LSTM(128, input_shape=(maxlen, len(vocabulary)), return_sequences=True)))\n",
        "  model.add(Dropout(0.1))\n",
        "  model.add(tf.keras.layers.Bidirectional(LSTM(256)))\n",
        "  model.add(Dropout(0.1))\n",
        "  model.add(tf.keras.layers.Dense(len(vocabulary), activation='softmax'))\n",
        "  '''\n",
        "  model.add(LSTM(256, input_shape = (train_X.shape[1], train_X.shape[2]), return_sequences=True))\n",
        "  model.add(Dropout(0.1))\n",
        "  model.add(LSTM(512))\n",
        "  model.add(Dropout(0.1))\n",
        "  model.add(Dense(train_Y.shape[1], activation='softmax'))\n",
        "\n",
        "  lr_schedule = tf.keras.optimizers.schedules.ExponentialDecay(initial_learning_rate=0.001, decay_steps=10000, decay_rate=0.9)\n",
        "  optimizer = tf.keras.optimizers.Adam(learning_rate=lr_schedule)\n",
        "\n",
        "  model.compile(loss='categorical_crossentropy', optimizer=optimizer, metrics=[tf.metrics.CategoricalCrossentropy(), 'accuracy'])\n",
        "\n",
        "  return model\n",
        "\n",
        "# Create a basic model instance\n",
        "model = create_model()\n",
        "\n",
        "model.build(input_shape=((train_X.shape[1], train_X.shape[2]), 1))\n",
        "\n",
        "# Display the model's architecture\n",
        "model.summary()\n"
      ],
      "execution_count": 18,
      "outputs": [
        {
          "output_type": "stream",
          "text": [
            "Model: \"sequential_2\"\n",
            "_________________________________________________________________\n",
            "Layer (type)                 Output Shape              Param #   \n",
            "=================================================================\n",
            "lstm_4 (LSTM)                (None, 100, 256)          264192    \n",
            "_________________________________________________________________\n",
            "dropout_4 (Dropout)          (None, 100, 256)          0         \n",
            "_________________________________________________________________\n",
            "lstm_5 (LSTM)                (None, 512)               1574912   \n",
            "_________________________________________________________________\n",
            "dropout_5 (Dropout)          (None, 512)               0         \n",
            "_________________________________________________________________\n",
            "dense_2 (Dense)              (None, 65)                33345     \n",
            "=================================================================\n",
            "Total params: 1,872,449\n",
            "Trainable params: 1,872,449\n",
            "Non-trainable params: 0\n",
            "_________________________________________________________________\n"
          ],
          "name": "stdout"
        }
      ]
    },
    {
      "cell_type": "code",
      "metadata": {
        "colab": {
          "base_uri": "https://localhost:8080/"
        },
        "id": "dXZkpCWg9g5U",
        "outputId": "cca24a69-fb63-4ca9-9029-a666a938a453"
      },
      "source": [
        "checkpoint_path = \"/content/gdrive/My Drive/NLP/Experiments/basic1/cp.ckpt\"\n",
        "#checkpoint_dir = os.path.dirname(checkpoint_path)\n",
        "\n",
        "# Create a callback that saves the model's weights\n",
        "cp_callback = tf.keras.callbacks.ModelCheckpoint(filepath=checkpoint_path,\n",
        "                                                 save_weights_only=True,\n",
        "                                                 save_best_only = True,\n",
        "                                                 verbose=1)\n",
        "\n",
        "#print(\"Learning rate before first fit:\", model.optimizer.learning_rate.numpy())\n",
        "\n",
        "# Train the model with the new callback\n",
        "history = model.fit(train_X, train_Y,  \n",
        "          epochs=50,\n",
        "          batch_size = 64,\n",
        "          validation_data=(X_valid, Y_valid),\n",
        "          callbacks=[cp_callback])  # Pass callback to training\n",
        "\n",
        "# This may generate warnings related to saving the state of the optimizer.\n",
        "# These warnings (and similar warnings throughout this notebook)\n",
        "# are in place to discourage outdated usage, and can be ignored.\n",
        "\n",
        "# Change learning rate to 0.001 and train for 25 more epochs\n"
      ],
      "execution_count": 10,
      "outputs": [
        {
          "output_type": "stream",
          "text": [
            "Epoch 1/50\n",
            "1003/1003 [==============================] - 118s 109ms/step - loss: 3.0196 - categorical_crossentropy: 3.0196 - accuracy: 0.1806 - val_loss: 2.6898 - val_categorical_crossentropy: 2.6898 - val_accuracy: 0.2402\n",
            "\n",
            "Epoch 00001: val_loss improved from inf to 2.68979, saving model to /content/gdrive/My Drive/NLP/Experiments/basic1/cp.ckpt\n",
            "Epoch 2/50\n",
            "1003/1003 [==============================] - 108s 108ms/step - loss: 2.6477 - categorical_crossentropy: 2.6477 - accuracy: 0.2506 - val_loss: 2.4347 - val_categorical_crossentropy: 2.4347 - val_accuracy: 0.3110\n",
            "\n",
            "Epoch 00002: val_loss improved from 2.68979 to 2.43467, saving model to /content/gdrive/My Drive/NLP/Experiments/basic1/cp.ckpt\n",
            "Epoch 3/50\n",
            "1003/1003 [==============================] - 108s 108ms/step - loss: 2.3592 - categorical_crossentropy: 2.3592 - accuracy: 0.3273 - val_loss: 2.2374 - val_categorical_crossentropy: 2.2374 - val_accuracy: 0.3583\n",
            "\n",
            "Epoch 00003: val_loss improved from 2.43467 to 2.23736, saving model to /content/gdrive/My Drive/NLP/Experiments/basic1/cp.ckpt\n",
            "Epoch 4/50\n",
            "1003/1003 [==============================] - 108s 108ms/step - loss: 2.1180 - categorical_crossentropy: 2.1180 - accuracy: 0.3938 - val_loss: 2.0246 - val_categorical_crossentropy: 2.0246 - val_accuracy: 0.4283\n",
            "\n",
            "Epoch 00004: val_loss improved from 2.23736 to 2.02456, saving model to /content/gdrive/My Drive/NLP/Experiments/basic1/cp.ckpt\n",
            "Epoch 5/50\n",
            "1003/1003 [==============================] - 108s 108ms/step - loss: 1.9218 - categorical_crossentropy: 1.9218 - accuracy: 0.4481 - val_loss: 1.8768 - val_categorical_crossentropy: 1.8768 - val_accuracy: 0.4695\n",
            "\n",
            "Epoch 00005: val_loss improved from 2.02456 to 1.87679, saving model to /content/gdrive/My Drive/NLP/Experiments/basic1/cp.ckpt\n",
            "Epoch 6/50\n",
            "1003/1003 [==============================] - 108s 108ms/step - loss: 1.7561 - categorical_crossentropy: 1.7561 - accuracy: 0.4915 - val_loss: 1.7816 - val_categorical_crossentropy: 1.7816 - val_accuracy: 0.4968\n",
            "\n",
            "Epoch 00006: val_loss improved from 1.87679 to 1.78156, saving model to /content/gdrive/My Drive/NLP/Experiments/basic1/cp.ckpt\n",
            "Epoch 7/50\n",
            "1003/1003 [==============================] - 109s 109ms/step - loss: 1.6182 - categorical_crossentropy: 1.6182 - accuracy: 0.5321 - val_loss: 1.7142 - val_categorical_crossentropy: 1.7142 - val_accuracy: 0.5148\n",
            "\n",
            "Epoch 00007: val_loss improved from 1.78156 to 1.71420, saving model to /content/gdrive/My Drive/NLP/Experiments/basic1/cp.ckpt\n",
            "Epoch 8/50\n",
            "1003/1003 [==============================] - 109s 109ms/step - loss: 1.4910 - categorical_crossentropy: 1.4910 - accuracy: 0.5647 - val_loss: 1.6709 - val_categorical_crossentropy: 1.6709 - val_accuracy: 0.5326\n",
            "\n",
            "Epoch 00008: val_loss improved from 1.71420 to 1.67094, saving model to /content/gdrive/My Drive/NLP/Experiments/basic1/cp.ckpt\n",
            "Epoch 9/50\n",
            "1003/1003 [==============================] - 109s 109ms/step - loss: 1.3746 - categorical_crossentropy: 1.3746 - accuracy: 0.5969 - val_loss: 1.6583 - val_categorical_crossentropy: 1.6583 - val_accuracy: 0.5365\n",
            "\n",
            "Epoch 00009: val_loss improved from 1.67094 to 1.65829, saving model to /content/gdrive/My Drive/NLP/Experiments/basic1/cp.ckpt\n",
            "Epoch 10/50\n",
            "1003/1003 [==============================] - 109s 109ms/step - loss: 1.2633 - categorical_crossentropy: 1.2633 - accuracy: 0.6253 - val_loss: 1.6281 - val_categorical_crossentropy: 1.6281 - val_accuracy: 0.5491\n",
            "\n",
            "Epoch 00010: val_loss improved from 1.65829 to 1.62807, saving model to /content/gdrive/My Drive/NLP/Experiments/basic1/cp.ckpt\n",
            "Epoch 11/50\n",
            "1003/1003 [==============================] - 109s 109ms/step - loss: 1.1390 - categorical_crossentropy: 1.1390 - accuracy: 0.6617 - val_loss: 1.6424 - val_categorical_crossentropy: 1.6424 - val_accuracy: 0.5528\n",
            "\n",
            "Epoch 00011: val_loss did not improve from 1.62807\n",
            "Epoch 12/50\n",
            "1003/1003 [==============================] - 109s 108ms/step - loss: 1.0502 - categorical_crossentropy: 1.0502 - accuracy: 0.6839 - val_loss: 1.6252 - val_categorical_crossentropy: 1.6252 - val_accuracy: 0.5659\n",
            "\n",
            "Epoch 00012: val_loss improved from 1.62807 to 1.62524, saving model to /content/gdrive/My Drive/NLP/Experiments/basic1/cp.ckpt\n",
            "Epoch 13/50\n",
            "1003/1003 [==============================] - 109s 108ms/step - loss: 0.9508 - categorical_crossentropy: 0.9508 - accuracy: 0.7161 - val_loss: 1.6546 - val_categorical_crossentropy: 1.6546 - val_accuracy: 0.5618\n",
            "\n",
            "Epoch 00013: val_loss did not improve from 1.62524\n",
            "Epoch 14/50\n",
            "1003/1003 [==============================] - 109s 108ms/step - loss: 0.8565 - categorical_crossentropy: 0.8565 - accuracy: 0.7425 - val_loss: 1.6466 - val_categorical_crossentropy: 1.6466 - val_accuracy: 0.5711\n",
            "\n",
            "Epoch 00014: val_loss did not improve from 1.62524\n",
            "Epoch 15/50\n",
            "1003/1003 [==============================] - 108s 108ms/step - loss: 0.7729 - categorical_crossentropy: 0.7729 - accuracy: 0.7661 - val_loss: 1.6817 - val_categorical_crossentropy: 1.6817 - val_accuracy: 0.5704\n",
            "\n",
            "Epoch 00015: val_loss did not improve from 1.62524\n",
            "Epoch 16/50\n",
            "1003/1003 [==============================] - 109s 109ms/step - loss: 0.6950 - categorical_crossentropy: 0.6950 - accuracy: 0.7917 - val_loss: 1.7223 - val_categorical_crossentropy: 1.7223 - val_accuracy: 0.5692\n",
            "\n",
            "Epoch 00016: val_loss did not improve from 1.62524\n",
            "Epoch 17/50\n",
            "1003/1003 [==============================] - 109s 109ms/step - loss: 0.6311 - categorical_crossentropy: 0.6311 - accuracy: 0.8099 - val_loss: 1.7347 - val_categorical_crossentropy: 1.7347 - val_accuracy: 0.5749\n",
            "\n",
            "Epoch 00017: val_loss did not improve from 1.62524\n",
            "Epoch 18/50\n",
            "1003/1003 [==============================] - 109s 108ms/step - loss: 0.5647 - categorical_crossentropy: 0.5647 - accuracy: 0.8302 - val_loss: 1.7726 - val_categorical_crossentropy: 1.7726 - val_accuracy: 0.5740\n",
            "\n",
            "Epoch 00018: val_loss did not improve from 1.62524\n",
            "Epoch 19/50\n",
            "1003/1003 [==============================] - 109s 108ms/step - loss: 0.4978 - categorical_crossentropy: 0.4978 - accuracy: 0.8506 - val_loss: 1.8063 - val_categorical_crossentropy: 1.8063 - val_accuracy: 0.5792\n",
            "\n",
            "Epoch 00019: val_loss did not improve from 1.62524\n",
            "Epoch 20/50\n",
            "1003/1003 [==============================] - 109s 109ms/step - loss: 0.4536 - categorical_crossentropy: 0.4536 - accuracy: 0.8633 - val_loss: 1.8495 - val_categorical_crossentropy: 1.8495 - val_accuracy: 0.5764\n",
            "\n",
            "Epoch 00020: val_loss did not improve from 1.62524\n",
            "Epoch 21/50\n",
            "1003/1003 [==============================] - 109s 109ms/step - loss: 0.4176 - categorical_crossentropy: 0.4176 - accuracy: 0.8759 - val_loss: 1.8972 - val_categorical_crossentropy: 1.8972 - val_accuracy: 0.5760\n",
            "\n",
            "Epoch 00021: val_loss did not improve from 1.62524\n",
            "Epoch 22/50\n",
            "1003/1003 [==============================] - 109s 109ms/step - loss: 0.3823 - categorical_crossentropy: 0.3823 - accuracy: 0.8837 - val_loss: 1.9316 - val_categorical_crossentropy: 1.9316 - val_accuracy: 0.5794\n",
            "\n",
            "Epoch 00022: val_loss did not improve from 1.62524\n",
            "Epoch 23/50\n",
            "1003/1003 [==============================] - 109s 109ms/step - loss: 0.3532 - categorical_crossentropy: 0.3532 - accuracy: 0.8936 - val_loss: 1.9742 - val_categorical_crossentropy: 1.9742 - val_accuracy: 0.5769\n",
            "\n",
            "Epoch 00023: val_loss did not improve from 1.62524\n",
            "Epoch 24/50\n",
            "1003/1003 [==============================] - 109s 109ms/step - loss: 0.3145 - categorical_crossentropy: 0.3145 - accuracy: 0.9064 - val_loss: 2.0613 - val_categorical_crossentropy: 2.0613 - val_accuracy: 0.5675\n",
            "\n",
            "Epoch 00024: val_loss did not improve from 1.62524\n",
            "Epoch 25/50\n",
            "1003/1003 [==============================] - 109s 109ms/step - loss: 0.2971 - categorical_crossentropy: 0.2971 - accuracy: 0.9123 - val_loss: 2.0398 - val_categorical_crossentropy: 2.0398 - val_accuracy: 0.5774\n",
            "\n",
            "Epoch 00025: val_loss did not improve from 1.62524\n",
            "Epoch 26/50\n",
            "1003/1003 [==============================] - 109s 109ms/step - loss: 0.3123 - categorical_crossentropy: 0.3123 - accuracy: 0.9121 - val_loss: 2.0942 - val_categorical_crossentropy: 2.0942 - val_accuracy: 0.5750\n",
            "\n",
            "Epoch 00026: val_loss did not improve from 1.62524\n",
            "Epoch 27/50\n",
            "1003/1003 [==============================] - 109s 109ms/step - loss: 0.2748 - categorical_crossentropy: 0.2748 - accuracy: 0.9204 - val_loss: 2.1233 - val_categorical_crossentropy: 2.1233 - val_accuracy: 0.5763\n",
            "\n",
            "Epoch 00027: val_loss did not improve from 1.62524\n",
            "Epoch 28/50\n",
            "1003/1003 [==============================] - 109s 109ms/step - loss: 0.3627 - categorical_crossentropy: 0.3627 - accuracy: 0.9007 - val_loss: 2.3512 - val_categorical_crossentropy: 2.3512 - val_accuracy: 0.4875\n",
            "\n",
            "Epoch 00028: val_loss did not improve from 1.62524\n",
            "Epoch 29/50\n",
            "1003/1003 [==============================] - 109s 109ms/step - loss: 1.0075 - categorical_crossentropy: 1.0075 - accuracy: 0.7486 - val_loss: 2.3649 - val_categorical_crossentropy: 2.3649 - val_accuracy: 0.4880\n",
            "\n",
            "Epoch 00029: val_loss did not improve from 1.62524\n",
            "Epoch 30/50\n",
            "1003/1003 [==============================] - 109s 109ms/step - loss: 0.9720 - categorical_crossentropy: 0.9720 - accuracy: 0.7535 - val_loss: 2.3750 - val_categorical_crossentropy: 2.3750 - val_accuracy: 0.4876\n",
            "\n",
            "Epoch 00030: val_loss did not improve from 1.62524\n",
            "Epoch 31/50\n",
            "1003/1003 [==============================] - 110s 109ms/step - loss: 0.9180 - categorical_crossentropy: 0.9180 - accuracy: 0.7626 - val_loss: 2.2105 - val_categorical_crossentropy: 2.2105 - val_accuracy: 0.5624\n",
            "\n",
            "Epoch 00031: val_loss did not improve from 1.62524\n",
            "Epoch 32/50\n",
            "1003/1003 [==============================] - 110s 110ms/step - loss: 0.2601 - categorical_crossentropy: 0.2601 - accuracy: 0.9221 - val_loss: 2.1939 - val_categorical_crossentropy: 2.1939 - val_accuracy: 0.5753\n",
            "\n",
            "Epoch 00032: val_loss did not improve from 1.62524\n",
            "Epoch 33/50\n",
            "1003/1003 [==============================] - 111s 110ms/step - loss: 0.2074 - categorical_crossentropy: 0.2074 - accuracy: 0.9371 - val_loss: 2.2139 - val_categorical_crossentropy: 2.2139 - val_accuracy: 0.5768\n",
            "\n",
            "Epoch 00033: val_loss did not improve from 1.62524\n",
            "Epoch 34/50\n",
            "1003/1003 [==============================] - 110s 109ms/step - loss: 0.1828 - categorical_crossentropy: 0.1828 - accuracy: 0.9464 - val_loss: 2.2284 - val_categorical_crossentropy: 2.2284 - val_accuracy: 0.5806\n",
            "\n",
            "Epoch 00034: val_loss did not improve from 1.62524\n",
            "Epoch 35/50\n",
            "1003/1003 [==============================] - 109s 109ms/step - loss: 0.1734 - categorical_crossentropy: 0.1734 - accuracy: 0.9496 - val_loss: 2.2810 - val_categorical_crossentropy: 2.2810 - val_accuracy: 0.5749\n",
            "\n",
            "Epoch 00035: val_loss did not improve from 1.62524\n",
            "Epoch 36/50\n",
            "1003/1003 [==============================] - 109s 109ms/step - loss: 0.1671 - categorical_crossentropy: 0.1671 - accuracy: 0.9504 - val_loss: 2.3144 - val_categorical_crossentropy: 2.3144 - val_accuracy: 0.5777\n",
            "\n",
            "Epoch 00036: val_loss did not improve from 1.62524\n",
            "Epoch 37/50\n",
            "1003/1003 [==============================] - 109s 109ms/step - loss: 0.1631 - categorical_crossentropy: 0.1631 - accuracy: 0.9524 - val_loss: 2.3499 - val_categorical_crossentropy: 2.3499 - val_accuracy: 0.5762\n",
            "\n",
            "Epoch 00037: val_loss did not improve from 1.62524\n",
            "Epoch 38/50\n",
            "1003/1003 [==============================] - 109s 109ms/step - loss: 0.1496 - categorical_crossentropy: 0.1496 - accuracy: 0.9571 - val_loss: 2.3688 - val_categorical_crossentropy: 2.3688 - val_accuracy: 0.5777\n",
            "\n",
            "Epoch 00038: val_loss did not improve from 1.62524\n",
            "Epoch 39/50\n",
            "1003/1003 [==============================] - 109s 109ms/step - loss: 0.1478 - categorical_crossentropy: 0.1478 - accuracy: 0.9564 - val_loss: 2.3950 - val_categorical_crossentropy: 2.3950 - val_accuracy: 0.5775\n",
            "\n",
            "Epoch 00039: val_loss did not improve from 1.62524\n",
            "Epoch 40/50\n",
            "1003/1003 [==============================] - 109s 109ms/step - loss: 0.1486 - categorical_crossentropy: 0.1486 - accuracy: 0.9559 - val_loss: 2.4137 - val_categorical_crossentropy: 2.4137 - val_accuracy: 0.5800\n",
            "\n",
            "Epoch 00040: val_loss did not improve from 1.62524\n",
            "Epoch 41/50\n",
            "1003/1003 [==============================] - 109s 109ms/step - loss: 0.1356 - categorical_crossentropy: 0.1356 - accuracy: 0.9604 - val_loss: 2.4448 - val_categorical_crossentropy: 2.4448 - val_accuracy: 0.5744\n",
            "\n",
            "Epoch 00041: val_loss did not improve from 1.62524\n",
            "Epoch 42/50\n",
            "1003/1003 [==============================] - 109s 109ms/step - loss: 0.1447 - categorical_crossentropy: 0.1447 - accuracy: 0.9590 - val_loss: 2.4635 - val_categorical_crossentropy: 2.4635 - val_accuracy: 0.5781\n",
            "\n",
            "Epoch 00042: val_loss did not improve from 1.62524\n",
            "Epoch 43/50\n",
            "1003/1003 [==============================] - 109s 109ms/step - loss: 0.1261 - categorical_crossentropy: 0.1261 - accuracy: 0.9625 - val_loss: 2.4878 - val_categorical_crossentropy: 2.4878 - val_accuracy: 0.5788\n",
            "\n",
            "Epoch 00043: val_loss did not improve from 1.62524\n",
            "Epoch 44/50\n",
            "1003/1003 [==============================] - 109s 109ms/step - loss: 0.1258 - categorical_crossentropy: 0.1258 - accuracy: 0.9620 - val_loss: 2.5103 - val_categorical_crossentropy: 2.5103 - val_accuracy: 0.5783\n",
            "\n",
            "Epoch 00044: val_loss did not improve from 1.62524\n",
            "Epoch 45/50\n",
            "1003/1003 [==============================] - 110s 109ms/step - loss: 0.1203 - categorical_crossentropy: 0.1203 - accuracy: 0.9647 - val_loss: 2.5456 - val_categorical_crossentropy: 2.5456 - val_accuracy: 0.5774\n",
            "\n",
            "Epoch 00045: val_loss did not improve from 1.62524\n",
            "Epoch 46/50\n",
            "1003/1003 [==============================] - 110s 110ms/step - loss: 0.1253 - categorical_crossentropy: 0.1253 - accuracy: 0.9622 - val_loss: 2.5650 - val_categorical_crossentropy: 2.5650 - val_accuracy: 0.5744\n",
            "\n",
            "Epoch 00046: val_loss did not improve from 1.62524\n",
            "Epoch 47/50\n",
            "1003/1003 [==============================] - 110s 109ms/step - loss: 0.2172 - categorical_crossentropy: 0.2172 - accuracy: 0.9428 - val_loss: 2.6637 - val_categorical_crossentropy: 2.6637 - val_accuracy: 0.5086\n",
            "\n",
            "Epoch 00047: val_loss did not improve from 1.62524\n",
            "Epoch 48/50\n",
            "1003/1003 [==============================] - 110s 109ms/step - loss: 0.8065 - categorical_crossentropy: 0.8065 - accuracy: 0.8060 - val_loss: 2.6826 - val_categorical_crossentropy: 2.6826 - val_accuracy: 0.4708\n",
            "\n",
            "Epoch 00048: val_loss did not improve from 1.62524\n",
            "Epoch 49/50\n",
            "1003/1003 [==============================] - 110s 109ms/step - loss: 0.8744 - categorical_crossentropy: 0.8744 - accuracy: 0.7781 - val_loss: 2.5677 - val_categorical_crossentropy: 2.5677 - val_accuracy: 0.5676\n",
            "\n",
            "Epoch 00049: val_loss did not improve from 1.62524\n",
            "Epoch 50/50\n",
            "1003/1003 [==============================] - 110s 109ms/step - loss: 0.2123 - categorical_crossentropy: 0.2123 - accuracy: 0.9396 - val_loss: 2.6336 - val_categorical_crossentropy: 2.6336 - val_accuracy: 0.5298\n",
            "\n",
            "Epoch 00050: val_loss did not improve from 1.62524\n"
          ],
          "name": "stdout"
        }
      ]
    },
    {
      "cell_type": "code",
      "metadata": {
        "id": "9SU4R9nifHoy",
        "colab": {
          "base_uri": "https://localhost:8080/",
          "height": 295
        },
        "outputId": "0338be97-f57e-4feb-f0ac-4fbbd1e1df10"
      },
      "source": [
        "# plot train and validation loss\n",
        "pyplot.plot(history.history['loss'])\n",
        "pyplot.plot(history.history['val_loss'])\n",
        "pyplot.title('model train vs validation loss')\n",
        "pyplot.ylabel('loss')\n",
        "pyplot.xlabel('epoch')\n",
        "pyplot.legend(['train', 'validation'], loc='upper right')\n",
        "pyplot.show()"
      ],
      "execution_count": 11,
      "outputs": [
        {
          "output_type": "display_data",
          "data": {
            "image/png": "[encoded data removed]",
            "text/plain": [
              "<Figure size 432x288 with 1 Axes>"
            ]
          },
          "metadata": {
            "tags": [],
            "needs_background": "light"
          }
        }
      ]
    },
    {
      "cell_type": "code",
      "metadata": {
        "id": "mNmuBJXtrbBY",
        "colab": {
          "base_uri": "https://localhost:8080/"
        },
        "outputId": "915fca80-d197-4e81-de45-65277e6e0750"
      },
      "source": [
        "model = create_model()\n",
        "\n",
        "checkpoint_dir = \"/content/gdrive/My Drive/NLP/Experiments/basic1\"\n",
        "\n",
        "latest = tf.train.latest_checkpoint(checkpoint_dir)\n",
        "\n",
        "model.load_weights(latest)\n",
        "\n",
        "loss = model.evaluate(X_test, Y_test)\n",
        "#print(\"Restored model, accuracy: {:5.2f}%\".format(100 * acc))"
      ],
      "execution_count": 19,
      "outputs": [
        {
          "output_type": "stream",
          "text": [
            "WARNING:tensorflow:Unresolved object in checkpoint: (root).optimizer.iter\n",
            "WARNING:tensorflow:Unresolved object in checkpoint: (root).optimizer.beta_1\n",
            "WARNING:tensorflow:Unresolved object in checkpoint: (root).optimizer.beta_2\n",
            "WARNING:tensorflow:Unresolved object in checkpoint: (root).optimizer.decay\n",
            "WARNING:tensorflow:A checkpoint was restored (e.g. tf.train.Checkpoint.restore or tf.keras.Model.load_weights) but not all checkpointed values were used. See above for specific issues. Use expect_partial() on the load status object, e.g. tf.train.Checkpoint.restore(...).expect_partial(), to silence these warnings, or use assert_consumed() to make the check explicit. See https://www.tensorflow.org/guide/checkpoint#loading_mechanics for details.\n",
            "1504/1504 [==============================] - 15s 9ms/step - loss: 1.3078 - categorical_crossentropy: 1.3078 - accuracy: 0.6450\n"
          ],
          "name": "stdout"
        }
      ]
    },
    {
      "cell_type": "code",
      "metadata": {
        "id": "4z35sCC0iRFq"
      },
      "source": [
        "\n",
        "string_mapped = X[99]\n",
        "full_string = [n_to_char[value] for value in string_mapped]\n",
        "# generating characters\n",
        "for i in range(400):\n",
        "    x = np.reshape(string_mapped,(1,len(string_mapped), 1))\n",
        "    x = x / float(len(vocabulary))\n",
        "\n",
        "    pred_index = np.argmax(model.predict(x, verbose=0))\n",
        "    seq = [n_to_char[value] for value in string_mapped]\n",
        "    full_string.append(n_to_char[pred_index])\n",
        "\n",
        "    string_mapped.append(pred_index)\n",
        "    string_mapped = string_mapped[1:len(string_mapped)]\n",
        "  "
      ],
      "execution_count": 20,
      "outputs": []
    },
    {
      "cell_type": "code",
      "metadata": {
        "id": "FAsgGpsjiUhH",
        "colab": {
          "base_uri": "https://localhost:8080/",
          "height": 88
        },
        "outputId": "0595ea29-a790-404e-b23a-13c24db6c4d2"
      },
      "source": [
        "\n",
        "txt=\"\"\n",
        "for char in full_string:\n",
        "    txt = txt+char\n",
        "txt\n"
      ],
      "execution_count": 21,
      "outputs": [
        {
          "output_type": "execute_result",
          "data": {
            "application/vnd.google.colaboratory.intrinsic+json": {
              "type": "string"
            },
            "text/plain": [
              "\"lled with the fullness of god, loaded with all power, glory, might, and grace of divinity! i am an abie io the fooseousress of god in christ  i have a goly spirit in ly spirit and fooouring woul god s poace in my spirit and fooouring woul god in my life. i am souerd and clrired to an eeie io all things in me. i m corn agaause the lord ias given me in the seglt of thises are sake that the sitea hald of condsion, i am a bhi-tiine in thi word. i am supergor to the soirit, i m ind'iisur christ. i am\""
            ]
          },
          "metadata": {
            "tags": []
          },
          "execution_count": 21
        }
      ]
    }
  ]
}